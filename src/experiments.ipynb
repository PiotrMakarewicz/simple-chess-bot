{
 "cells": [
  {
   "cell_type": "code",
   "execution_count": 13,
   "metadata": {},
   "outputs": [],
   "source": [
    "#! wget -r -e robots=off -P ../ --no-parent  --no-host-directories --reject=\"index.html*\" --convert-links http://tablebase.lichess.ovh/tables/standard/3-4-5/"
   ]
  },
  {
   "cell_type": "code",
   "execution_count": 14,
   "metadata": {},
   "outputs": [],
   "source": [
    "import chess\n",
    "from chess import syzygy\n",
    "from board.BoardEncoder import BoardEncoder\n",
    "import numpy as np"
   ]
  },
  {
   "cell_type": "code",
   "execution_count": 15,
   "metadata": {},
   "outputs": [
    {
     "data": {
      "text/plain": [
       "290"
      ]
     },
     "execution_count": 15,
     "metadata": {},
     "output_type": "execute_result"
    }
   ],
   "source": [
    "tablebase = syzygy.Tablebase()\n",
    "tablebase.add_directory('../tables/standard/3-4-5')"
   ]
  },
  {
   "cell_type": "markdown",
   "metadata": {},
   "source": [
    "## Probing tablebase for selected positions\n",
    "\n",
    "We are using Syzygy tablebases. More information here: https://python-chess.readthedocs.io/en/latest/syzygy.html"
   ]
  },
  {
   "cell_type": "code",
   "execution_count": 16,
   "metadata": {},
   "outputs": [],
   "source": [
    "def print_dtz(fen):\n",
    "    dtz = tablebase.probe_dtz(chess.Board(fen))\n",
    "    print(f\"Distance to checkmate or a zeroing move: {dtz}\")"
   ]
  },
  {
   "cell_type": "markdown",
   "metadata": {},
   "source": [
    "\n",
    "White to move:\n",
    "\n",
    "![](https://fen2image.chessvision.ai/8/8/8/8/3k4/8/3K4/3Q4_w_-_-_0_1?color=white)\n"
   ]
  },
  {
   "cell_type": "code",
   "execution_count": 17,
   "metadata": {},
   "outputs": [
    {
     "name": "stdout",
     "output_type": "stream",
     "text": [
      "Distance to checkmate or a zeroing move: 13\n"
     ]
    }
   ],
   "source": [
    "print_dtz('8/8/8/8/3k4/8/3K4/3Q4 w - - 0 1')"
   ]
  },
  {
   "cell_type": "markdown",
   "metadata": {},
   "source": [
    "A positive value for DTZ indicates that the side to move needs 13 moves to win (or zero the 50-move counter), so here white is winning."
   ]
  },
  {
   "cell_type": "markdown",
   "metadata": {},
   "source": [
    "\n",
    "White to move:\n",
    "\n",
    "![](https://fen2image.chessvision.ai/k7/p7/8/K7/8/8/8/8_w_-_-_0_1?color=white)\n"
   ]
  },
  {
   "cell_type": "code",
   "execution_count": 18,
   "metadata": {},
   "outputs": [
    {
     "name": "stdout",
     "output_type": "stream",
     "text": [
      "Distance to checkmate or a zeroing move: 0\n"
     ]
    }
   ],
   "source": [
    "print_dtz('k7/p7/8/K7/8/8/8/8 w - - 0 1')"
   ]
  },
  {
   "cell_type": "code",
   "execution_count": null,
   "metadata": {},
   "outputs": [],
   "source": []
  },
  {
   "cell_type": "markdown",
   "metadata": {},
   "source": [
    "Zero means that the position is drawn."
   ]
  },
  {
   "cell_type": "markdown",
   "metadata": {},
   "source": [
    "White to move:\n",
    "\n",
    "![](https://fen2image.chessvision.ai/8/R7/3r4/8/4K3/8/4p3/4k3%20w%20-%20-%200%201?color=white)"
   ]
  },
  {
   "cell_type": "code",
   "execution_count": 41,
   "metadata": {},
   "outputs": [
    {
     "name": "stdout",
     "output_type": "stream",
     "text": [
      "Distance to checkmate or a zeroing move: -10\n"
     ]
    }
   ],
   "source": [
    "print_dtz('8/R7/3r4/8/4K3/8/4p3/4k3 w - - 0 1')"
   ]
  },
  {
   "cell_type": "markdown",
   "metadata": {},
   "source": [
    "A negative value indicates that the side to play will lose in 10 moves, assuming the best play by both sides."
   ]
  },
  {
   "cell_type": "markdown",
   "metadata": {},
   "source": [
    "## Building a training dataset"
   ]
  },
  {
   "cell_type": "code",
   "execution_count": 26,
   "metadata": {},
   "outputs": [],
   "source": [
    "def bitarray_to_ndarray(bitarray):\n",
    "    return np.array([int(bit) for bit in bitarray], dtype=bool)\n",
    "\n",
    "def put_piece(board, color, piece, check_validity=True):\n",
    "    while True:\n",
    "        square = np.random.randint(0, 64)\n",
    "        while board.piece_at(square) is not None:\n",
    "            square = np.random.randint(0, 64)\n",
    "        board.set_piece_at(square, chess.Piece(piece, color)) \n",
    "        if board.is_valid() or not check_validity:\n",
    "            break\n",
    "        else:\n",
    "            board.remove_piece_at(square)\n",
    "\n",
    "def generate_random_fen():\n",
    "    # Generate a random position, where\n",
    "    # for each side there is a king and optionally a queen and/or a rook\n",
    "    \n",
    "    board = chess.Board()\n",
    "    board.clear_board()\n",
    "    board.castling_rights = 0\n",
    "\n",
    "    # Put kings first because positions without them are illegal\n",
    "    put_piece(board, chess.WHITE, chess.KING, check_validity=False)\n",
    "    put_piece(board, chess.BLACK, chess.KING, check_validity=True)\n",
    "\n",
    "    # Put remaining pieces\n",
    "    while True:\n",
    "        color_piece_count = {\n",
    "            chess.WHITE: {\n",
    "                chess.QUEEN: np.random.randint(0, 2),\n",
    "                chess.ROOK: np.random.randint(0, 2),\n",
    "            },\n",
    "            chess.BLACK: {\n",
    "                chess.QUEEN: np.random.randint(0, 2),\n",
    "                chess.ROOK: np.random.randint(0, 2),\n",
    "            }\n",
    "        }\n",
    "        if sum(color_piece_count[chess.WHITE].values()) + sum(color_piece_count[chess.BLACK].values()) <= 3: # We can have up to 5 pieces, kings included\n",
    "            break\n",
    "\n",
    "    for color in chess.COLORS:\n",
    "        for piece, count in color_piece_count[color].items():\n",
    "            for _ in range(count):\n",
    "                put_piece(board, color, piece)\n",
    "    \n",
    "    return board.fen()\n",
    "                \n",
    "\n",
    "N_SAMPLES = 1000000\n",
    "\n",
    "X_rows = []\n",
    "dtzs = []\n",
    "fens = []\n",
    "\n",
    "for _ in range(N_SAMPLES):\n",
    "    fen = generate_random_fen()\n",
    "    fens.append(fen)\n",
    "    \n",
    "    board = chess.Board(fen)\n",
    "    \n",
    "    X_row = bitarray_to_ndarray(BoardEncoder.encode(board))\n",
    "    X_rows.append(X_row)\n",
    "\n",
    "    dtz = tablebase.probe_dtz(board)\n",
    "    \n",
    "    dtzs.append(dtz)\n",
    "\n",
    "X = np.array(X_rows)\n",
    "y = np.array(dtzs)  "
   ]
  },
  {
   "cell_type": "code",
   "execution_count": 27,
   "metadata": {},
   "outputs": [
    {
     "data": {
      "text/plain": [
       "(10000, 837)"
      ]
     },
     "execution_count": 27,
     "metadata": {},
     "output_type": "execute_result"
    }
   ],
   "source": [
    "X.shape"
   ]
  },
  {
   "cell_type": "code",
   "execution_count": 28,
   "metadata": {},
   "outputs": [
    {
     "data": {
      "text/plain": [
       "(10000,)"
      ]
     },
     "execution_count": 28,
     "metadata": {},
     "output_type": "execute_result"
    }
   ],
   "source": [
    "y.shape"
   ]
  },
  {
   "cell_type": "markdown",
   "metadata": {},
   "source": [
    "## Crossvalidation to see if MLP regressor is a good choice"
   ]
  },
  {
   "cell_type": "code",
   "execution_count": 30,
   "metadata": {},
   "outputs": [
    {
     "name": "stdout",
     "output_type": "stream",
     "text": [
      "Iteration 1, loss = 96.59300947\n",
      "Iteration 2, loss = 90.22306371\n",
      "Iteration 3, loss = 72.03628915\n",
      "Iteration 4, loss = 65.28098666\n",
      "Iteration 5, loss = 61.46189199\n",
      "Iteration 6, loss = 57.72574740\n",
      "Iteration 7, loss = 54.00354664\n",
      "Iteration 8, loss = 48.83017401\n",
      "Iteration 9, loss = 42.72554712\n",
      "Iteration 10, loss = 35.15343415\n",
      "Iteration 11, loss = 26.96611058\n",
      "Iteration 12, loss = 19.95710039\n",
      "Iteration 13, loss = 15.37449698\n",
      "Iteration 14, loss = 11.52068889\n",
      "Iteration 15, loss = 9.42722572\n",
      "Iteration 16, loss = 7.70166278\n",
      "Iteration 17, loss = 6.04589562\n",
      "Iteration 18, loss = 5.00544593\n",
      "Iteration 19, loss = 4.28561283\n",
      "Iteration 20, loss = 3.58894316\n",
      "Iteration 21, loss = 3.13664374\n",
      "Iteration 22, loss = 3.00984908\n",
      "Iteration 23, loss = 2.64135122\n",
      "Iteration 24, loss = 2.24453254\n",
      "Iteration 25, loss = 1.94692823\n",
      "Iteration 26, loss = 1.72638762\n",
      "Iteration 27, loss = 1.64737019\n",
      "Iteration 28, loss = 1.53859224\n",
      "Iteration 29, loss = 1.42076567\n",
      "Iteration 30, loss = 1.35511971\n",
      "Iteration 31, loss = 1.28496456\n",
      "Iteration 32, loss = 1.20987518\n",
      "Iteration 33, loss = 1.17667846\n",
      "Iteration 34, loss = 1.20810545\n",
      "Iteration 35, loss = 1.18951070\n",
      "Iteration 36, loss = 1.18015074\n",
      "Iteration 37, loss = 1.16012114\n",
      "Iteration 38, loss = 1.15391745\n",
      "Iteration 39, loss = 1.17304071\n",
      "Iteration 40, loss = 1.19506874\n",
      "Iteration 41, loss = 1.27529704\n",
      "Iteration 42, loss = 1.37119093\n",
      "Iteration 43, loss = 1.41782793\n",
      "Iteration 44, loss = 1.47951074\n",
      "Iteration 45, loss = 1.52196871\n",
      "Iteration 46, loss = 1.56033197\n",
      "Iteration 47, loss = 1.59485358\n",
      "Iteration 48, loss = 1.60167884\n",
      "Iteration 49, loss = 1.62162136\n",
      "Training loss did not improve more than tol=0.000100 for 10 consecutive epochs. Stopping.\n",
      "Iteration 1, loss = 96.67964807\n",
      "Iteration 2, loss = 90.89032424\n",
      "Iteration 3, loss = 73.06241300\n",
      "Iteration 4, loss = 64.91770706\n",
      "Iteration 5, loss = 60.95743780\n",
      "Iteration 6, loss = 56.93189014\n",
      "Iteration 7, loss = 52.61280045\n",
      "Iteration 8, loss = 46.28895530\n",
      "Iteration 9, loss = 37.88505628\n",
      "Iteration 10, loss = 29.54441693\n",
      "Iteration 11, loss = 22.70005148\n",
      "Iteration 12, loss = 16.73819241\n",
      "Iteration 13, loss = 12.89345221\n",
      "Iteration 14, loss = 9.77351063\n",
      "Iteration 15, loss = 7.36195538\n",
      "Iteration 16, loss = 5.83920604\n",
      "Iteration 17, loss = 4.74970691\n",
      "Iteration 18, loss = 3.91819574\n",
      "Iteration 19, loss = 3.19723098\n",
      "Iteration 20, loss = 2.79459982\n",
      "Iteration 21, loss = 2.44711665\n",
      "Iteration 22, loss = 2.07874638\n",
      "Iteration 23, loss = 1.80831104\n",
      "Iteration 24, loss = 1.64205068\n",
      "Iteration 25, loss = 1.55419466\n",
      "Iteration 26, loss = 1.49186187\n",
      "Iteration 27, loss = 1.37434048\n",
      "Iteration 28, loss = 1.31425929\n",
      "Iteration 29, loss = 1.26853200\n",
      "Iteration 30, loss = 1.29838496\n",
      "Iteration 31, loss = 1.29851330\n",
      "Iteration 32, loss = 1.28436615\n",
      "Iteration 33, loss = 1.25110448\n",
      "Iteration 34, loss = 1.25097755\n",
      "Iteration 35, loss = 1.26465133\n",
      "Iteration 36, loss = 1.25838900\n",
      "Iteration 37, loss = 1.30151557\n",
      "Iteration 38, loss = 1.33144852\n",
      "Iteration 39, loss = 1.34763924\n",
      "Iteration 40, loss = 1.39005011\n",
      "Iteration 41, loss = 1.46954815\n",
      "Iteration 42, loss = 1.51372503\n",
      "Iteration 43, loss = 1.51844703\n",
      "Iteration 44, loss = 1.72627867\n",
      "Iteration 45, loss = 1.85052586\n",
      "Training loss did not improve more than tol=0.000100 for 10 consecutive epochs. Stopping.\n",
      "Iteration 1, loss = 97.07593617\n",
      "Iteration 2, loss = 90.88917895\n",
      "Iteration 3, loss = 72.00760500\n",
      "Iteration 4, loss = 64.94861586\n",
      "Iteration 5, loss = 61.19716276\n",
      "Iteration 6, loss = 57.72608306\n",
      "Iteration 7, loss = 53.56730359\n",
      "Iteration 8, loss = 48.31270290\n",
      "Iteration 9, loss = 41.80217593\n",
      "Iteration 10, loss = 34.75860552\n",
      "Iteration 11, loss = 26.96794454\n",
      "Iteration 12, loss = 19.98373713\n",
      "Iteration 13, loss = 15.11779493\n",
      "Iteration 14, loss = 11.23765872\n",
      "Iteration 15, loss = 8.53036875\n",
      "Iteration 16, loss = 6.67407005\n",
      "Iteration 17, loss = 5.41943853\n",
      "Iteration 18, loss = 4.50420079\n",
      "Iteration 19, loss = 3.79152249\n",
      "Iteration 20, loss = 3.33091337\n",
      "Iteration 21, loss = 2.86175612\n",
      "Iteration 22, loss = 2.51626906\n",
      "Iteration 23, loss = 2.30203694\n",
      "Iteration 24, loss = 2.08183034\n",
      "Iteration 25, loss = 1.90205241\n",
      "Iteration 26, loss = 1.79592845\n",
      "Iteration 27, loss = 1.64248193\n",
      "Iteration 28, loss = 1.55525002\n",
      "Iteration 29, loss = 1.45022579\n",
      "Iteration 30, loss = 1.42841931\n",
      "Iteration 31, loss = 1.37094978\n",
      "Iteration 32, loss = 1.30020341\n",
      "Iteration 33, loss = 1.25511549\n",
      "Iteration 34, loss = 1.22967007\n",
      "Iteration 35, loss = 1.21261353\n",
      "Iteration 36, loss = 1.19897816\n",
      "Iteration 37, loss = 1.21614899\n",
      "Iteration 38, loss = 1.26309867\n",
      "Iteration 39, loss = 1.29235328\n",
      "Iteration 40, loss = 1.31257219\n",
      "Iteration 41, loss = 1.32493935\n",
      "Iteration 42, loss = 1.39681794\n",
      "Iteration 43, loss = 1.47207803\n",
      "Iteration 44, loss = 1.63238367\n",
      "Iteration 45, loss = 1.66333761\n",
      "Iteration 46, loss = 1.83171526\n",
      "Iteration 47, loss = 1.83105875\n",
      "Training loss did not improve more than tol=0.000100 for 10 consecutive epochs. Stopping.\n",
      "Iteration 1, loss = 94.76431791\n",
      "Iteration 2, loss = 87.01333842\n",
      "Iteration 3, loss = 68.90950861\n",
      "Iteration 4, loss = 62.59952026\n",
      "Iteration 5, loss = 59.21145115\n",
      "Iteration 6, loss = 55.87108264\n",
      "Iteration 7, loss = 51.45211255\n",
      "Iteration 8, loss = 46.08844404\n",
      "Iteration 9, loss = 39.46449150\n",
      "Iteration 10, loss = 30.67316114\n",
      "Iteration 11, loss = 22.15287336\n",
      "Iteration 12, loss = 16.27021123\n",
      "Iteration 13, loss = 11.67760883\n",
      "Iteration 14, loss = 8.91013583\n",
      "Iteration 15, loss = 7.25390774\n",
      "Iteration 16, loss = 5.39231108\n",
      "Iteration 17, loss = 4.22006069\n",
      "Iteration 18, loss = 3.56804544\n",
      "Iteration 19, loss = 2.96971153\n",
      "Iteration 20, loss = 2.50448764\n",
      "Iteration 21, loss = 2.16242780\n",
      "Iteration 22, loss = 2.00760780\n",
      "Iteration 23, loss = 1.84915085\n",
      "Iteration 24, loss = 1.67959012\n",
      "Iteration 25, loss = 1.52295048\n",
      "Iteration 26, loss = 1.40871278\n",
      "Iteration 27, loss = 1.32757935\n",
      "Iteration 28, loss = 1.32302777\n",
      "Iteration 29, loss = 1.33607691\n",
      "Iteration 30, loss = 1.24849837\n",
      "Iteration 31, loss = 1.19541996\n",
      "Iteration 32, loss = 1.22859253\n",
      "Iteration 33, loss = 1.25167174\n",
      "Iteration 34, loss = 1.30991416\n",
      "Iteration 35, loss = 1.33843035\n",
      "Iteration 36, loss = 1.38566074\n",
      "Iteration 37, loss = 1.35275980\n",
      "Iteration 38, loss = 1.37392358\n",
      "Iteration 39, loss = 1.41359473\n",
      "Iteration 40, loss = 1.52069345\n",
      "Iteration 41, loss = 1.56595560\n",
      "Iteration 42, loss = 1.53595332\n",
      "Training loss did not improve more than tol=0.000100 for 10 consecutive epochs. Stopping.\n",
      "Iteration 1, loss = 96.47661186\n",
      "Iteration 2, loss = 87.95444641\n",
      "Iteration 3, loss = 70.10648181\n",
      "Iteration 4, loss = 63.61431484\n",
      "Iteration 5, loss = 59.70976628\n",
      "Iteration 6, loss = 55.83876316\n",
      "Iteration 7, loss = 50.94396979\n",
      "Iteration 8, loss = 44.69174404\n",
      "Iteration 9, loss = 37.16539109\n",
      "Iteration 10, loss = 28.46718898\n",
      "Iteration 11, loss = 21.71297390\n",
      "Iteration 12, loss = 16.46448748\n",
      "Iteration 13, loss = 12.57266708\n",
      "Iteration 14, loss = 9.76401365\n",
      "Iteration 15, loss = 7.93818514\n",
      "Iteration 16, loss = 6.42977677\n",
      "Iteration 17, loss = 5.25834678\n",
      "Iteration 18, loss = 4.39108571\n",
      "Iteration 19, loss = 3.63354539\n",
      "Iteration 20, loss = 3.08113345\n",
      "Iteration 21, loss = 2.67149837\n",
      "Iteration 22, loss = 2.35622188\n",
      "Iteration 23, loss = 2.19101066\n",
      "Iteration 24, loss = 2.00953520\n",
      "Iteration 25, loss = 1.83383087\n",
      "Iteration 26, loss = 1.70899702\n",
      "Iteration 27, loss = 1.59801250\n",
      "Iteration 28, loss = 1.50197395\n",
      "Iteration 29, loss = 1.44668897\n",
      "Iteration 30, loss = 1.44342755\n",
      "Iteration 31, loss = 1.41686008\n",
      "Iteration 32, loss = 1.53963553\n",
      "Iteration 33, loss = 1.59151316\n",
      "Iteration 34, loss = 1.53105801\n",
      "Iteration 35, loss = 1.49150057\n",
      "Iteration 36, loss = 1.57602797\n",
      "Iteration 37, loss = 1.59761532\n",
      "Iteration 38, loss = 1.54365298\n",
      "Iteration 39, loss = 1.52902579\n",
      "Iteration 40, loss = 1.51843273\n",
      "Iteration 41, loss = 1.51809350\n",
      "Iteration 42, loss = 1.50695795\n",
      "Training loss did not improve more than tol=0.000100 for 10 consecutive epochs. Stopping.\n",
      "Crossvalidation scores: [-8.70568536 -9.94072737 -8.49299181 -9.01279218 -9.42914906]\n",
      "Mean: -9.116269154805066\n",
      "Std: 0.5187265898861931\n"
     ]
    }
   ],
   "source": [
    "from sklearn.neural_network import MLPRegressor\n",
    "from sklearn.model_selection import cross_val_score\n",
    "\n",
    "\n",
    "reg = MLPRegressor(hidden_layer_sizes=(100, 100, 100), max_iter=1000, verbose=True, alpha=0.5)\n",
    "\n",
    "cv_score = cross_val_score(reg, X, y, cv=5, scoring='neg_mean_absolute_error')\n",
    "\n",
    "print(f\"Crossvalidation scores: {cv_score}\")\n",
    "print(f\"Mean: {cv_score.mean()}\")\n",
    "print(f\"Std: {cv_score.std()}\")"
   ]
  },
  {
   "cell_type": "markdown",
   "metadata": {},
   "source": [
    "## Proper training"
   ]
  },
  {
   "cell_type": "code",
   "execution_count": 34,
   "metadata": {},
   "outputs": [
    {
     "name": "stdout",
     "output_type": "stream",
     "text": [
      "Iteration 1, loss = 94.58007331\n",
      "Iteration 2, loss = 85.65828131\n",
      "Iteration 3, loss = 68.16725190\n",
      "Iteration 4, loss = 62.65989173\n",
      "Iteration 5, loss = 58.84965088\n",
      "Iteration 6, loss = 54.91891233\n",
      "Iteration 7, loss = 49.94607768\n",
      "Iteration 8, loss = 44.11239434\n",
      "Iteration 9, loss = 38.24427050\n",
      "Iteration 10, loss = 31.60053273\n",
      "Iteration 11, loss = 24.69689862\n",
      "Iteration 12, loss = 18.35706284\n",
      "Iteration 13, loss = 13.76086822\n",
      "Iteration 14, loss = 10.39815565\n",
      "Iteration 15, loss = 8.11397679\n",
      "Iteration 16, loss = 6.51892050\n",
      "Iteration 17, loss = 5.12757897\n",
      "Iteration 18, loss = 4.51856799\n",
      "Iteration 19, loss = 3.80975624\n",
      "Iteration 20, loss = 3.30658826\n",
      "Iteration 21, loss = 2.93709566\n",
      "Iteration 22, loss = 2.68098260\n",
      "Iteration 23, loss = 2.38312321\n",
      "Iteration 24, loss = 2.17916290\n",
      "Iteration 25, loss = 1.98858801\n",
      "Iteration 26, loss = 1.86731349\n",
      "Iteration 27, loss = 1.81454412\n",
      "Iteration 28, loss = 1.76382826\n",
      "Iteration 29, loss = 1.75342055\n",
      "Iteration 30, loss = 1.67885496\n",
      "Iteration 31, loss = 1.64852994\n",
      "Iteration 32, loss = 1.68727997\n",
      "Iteration 33, loss = 1.63661377\n",
      "Iteration 34, loss = 1.66962491\n",
      "Iteration 35, loss = 1.68263651\n",
      "Iteration 36, loss = 1.59549007\n",
      "Iteration 37, loss = 1.52293903\n",
      "Iteration 38, loss = 1.47040653\n",
      "Iteration 39, loss = 1.46470412\n",
      "Iteration 40, loss = 1.52462419\n",
      "Iteration 41, loss = 1.54123885\n",
      "Iteration 42, loss = 1.54190931\n",
      "Iteration 43, loss = 1.51088359\n",
      "Iteration 44, loss = 1.46379598\n",
      "Iteration 45, loss = 1.42476902\n",
      "Iteration 46, loss = 1.48288595\n",
      "Iteration 47, loss = 1.46487809\n",
      "Iteration 48, loss = 1.46139058\n",
      "Iteration 49, loss = 1.52490602\n",
      "Iteration 50, loss = 1.51993408\n",
      "Iteration 51, loss = 1.53160359\n",
      "Iteration 52, loss = 1.54085518\n",
      "Iteration 53, loss = 1.52834652\n",
      "Iteration 54, loss = 1.54111931\n",
      "Iteration 55, loss = 1.59244965\n",
      "Iteration 56, loss = 1.67321099\n",
      "Training loss did not improve more than tol=0.000100 for 10 consecutive epochs. Stopping.\n",
      "Mean squared error: 0.3192788124983592\n"
     ]
    }
   ],
   "source": [
    "from sklearn.model_selection import train_test_split\n",
    "\n",
    "X_train, X_test, y_train, y_test = train_test_split(X, y, test_size=0.1)\n",
    "reg.fit(X_train, y_train)\n",
    "mse = reg.score(X_test, y_test)\n",
    "\n",
    "print(f\"Mean squared error: {mse}\")"
   ]
  },
  {
   "cell_type": "markdown",
   "metadata": {},
   "source": [
    "## Model predictions"
   ]
  },
  {
   "cell_type": "code",
   "execution_count": 35,
   "metadata": {},
   "outputs": [],
   "source": [
    "def get_estimated_dtz(reg, fen):\n",
    "    board = chess.Board(fen)\n",
    "    X = bitarray_to_ndarray(BoardEncoder.encode(board)).reshape(1, -1)\n",
    "    return reg.predict(X)[0]\n"
   ]
  },
  {
   "cell_type": "markdown",
   "metadata": {},
   "source": [
    "White to move:\n",
    "\n",
    "![](https://fen2image.chessvision.ai/8/8/8/8/3k4/8/3K4/3Q4_w_-_-_0_1?color=white)"
   ]
  },
  {
   "cell_type": "code",
   "execution_count": 36,
   "metadata": {},
   "outputs": [
    {
     "data": {
      "text/plain": [
       "23.265909446173875"
      ]
     },
     "execution_count": 36,
     "metadata": {},
     "output_type": "execute_result"
    }
   ],
   "source": [
    "get_estimated_dtz(reg, '8/8/8/8/3k4/8/3K4/3Q4 w - - 0 1')"
   ]
  },
  {
   "cell_type": "markdown",
   "metadata": {},
   "source": [
    "Here, the model correctly estimates that white is winning, however in fact white only needs 13 moves to win while the model estimates 23."
   ]
  },
  {
   "cell_type": "markdown",
   "metadata": {},
   "source": [
    "\n",
    "White to move:\n",
    "\n",
    "![](https://fen2image.chessvision.ai/k7/p7/8/K7/8/8/8/8_w_-_-_0_1?color=white)"
   ]
  },
  {
   "cell_type": "code",
   "execution_count": 38,
   "metadata": {},
   "outputs": [
    {
     "data": {
      "text/plain": [
       "-5.527810798758446"
      ]
     },
     "execution_count": 38,
     "metadata": {},
     "output_type": "execute_result"
    }
   ],
   "source": [
    "get_estimated_dtz(reg, 'k7/p7/8/K7/8/8/8/8 w - - 0 1')"
   ]
  },
  {
   "cell_type": "markdown",
   "metadata": {},
   "source": [
    "The model estimates black winning in 5 moves, whereas in fact the position is drawn."
   ]
  },
  {
   "cell_type": "markdown",
   "metadata": {},
   "source": [
    "White to move:\n",
    "\n",
    "![](https://fen2image.chessvision.ai/8/R7/3r4/8/4K3/8/4p3/4k3%20w%20-%20-%200%201?color=white)"
   ]
  },
  {
   "cell_type": "code",
   "execution_count": 40,
   "metadata": {},
   "outputs": [
    {
     "data": {
      "text/plain": [
       "-9.935931977421188"
      ]
     },
     "execution_count": 40,
     "metadata": {},
     "output_type": "execute_result"
    }
   ],
   "source": [
    "get_estimated_dtz(reg, '8/R7/3r4/8/4K3/8/4p3/4k3 w - - 0 1')"
   ]
  },
  {
   "cell_type": "markdown",
   "metadata": {},
   "source": [
    "Here the model is correct - in fact, black needs 10 moves to win."
   ]
  }
 ],
 "metadata": {
  "kernelspec": {
   "display_name": ".venv",
   "language": "python",
   "name": "python3"
  },
  "language_info": {
   "codemirror_mode": {
    "name": "ipython",
    "version": 3
   },
   "file_extension": ".py",
   "mimetype": "text/x-python",
   "name": "python",
   "nbconvert_exporter": "python",
   "pygments_lexer": "ipython3",
   "version": "3.11.6"
  }
 },
 "nbformat": 4,
 "nbformat_minor": 2
}
