{
 "cells": [
  {
   "cell_type": "code",
   "execution_count": 1,
   "metadata": {},
   "outputs": [],
   "source": [
    "#! wget -r -e robots=off -P ../ --no-parent  --no-host-directories --reject=\"index.html*\" --convert-links http://tablebase.lichess.ovh/tables/standard/3-4-5/"
   ]
  },
  {
   "cell_type": "code",
   "execution_count": 2,
   "metadata": {},
   "outputs": [],
   "source": [
    "import chess\n",
    "from chess import syzygy\n",
    "from board.BoardEncoder import BoardEncoder\n",
    "import numpy as np\n",
    "from montecarlo.MonteCarloNode import MonteCarloNode\n",
    "import pickle\n",
    "import os\n",
    "from datetime import datetime\n",
    "from sklearn.neural_network import MLPRegressor\n",
    "from sklearn.model_selection import cross_val_score\n",
    "from sklearn.model_selection import train_test_split"
   ]
  },
  {
   "cell_type": "code",
   "execution_count": 3,
   "metadata": {},
   "outputs": [
    {
     "data": {
      "text/plain": [
       "290"
      ]
     },
     "execution_count": 3,
     "metadata": {},
     "output_type": "execute_result"
    }
   ],
   "source": [
    "tablebase = syzygy.Tablebase()\n",
    "tablebase.add_directory('../tables/standard/3-4-5')"
   ]
  },
  {
   "cell_type": "markdown",
   "metadata": {},
   "source": [
    "## Probing tablebase for selected positions\n",
    "\n",
    "We are using Syzygy tablebases. More information here: https://python-chess.readthedocs.io/en/latest/syzygy.html"
   ]
  },
  {
   "cell_type": "code",
   "execution_count": 4,
   "metadata": {},
   "outputs": [],
   "source": [
    "def print_dtz(fen):\n",
    "    dtz = tablebase.probe_dtz(chess.Board(fen))\n",
    "    print(f\"Distance to checkmate or a zeroing move: {dtz}\")"
   ]
  },
  {
   "cell_type": "markdown",
   "metadata": {},
   "source": [
    "\n",
    "White to move:\n",
    "\n",
    "![](https://fen2image.chessvision.ai/8/8/8/8/3k4/8/3K4/3Q4_w_-_-_0_1?color=white)\n"
   ]
  },
  {
   "cell_type": "code",
   "execution_count": 5,
   "metadata": {},
   "outputs": [
    {
     "name": "stdout",
     "output_type": "stream",
     "text": [
      "Distance to checkmate or a zeroing move: 13\n"
     ]
    }
   ],
   "source": [
    "print_dtz('8/8/8/8/3k4/8/3K4/3Q4 w - - 0 1')"
   ]
  },
  {
   "cell_type": "markdown",
   "metadata": {},
   "source": [
    "A positive value for DTZ indicates that the side to move needs 13 moves to win (or zero the 50-move counter), so here white is winning."
   ]
  },
  {
   "cell_type": "markdown",
   "metadata": {},
   "source": [
    "\n",
    "White to move:\n",
    "\n",
    "![](https://fen2image.chessvision.ai/k7/p7/8/K7/8/8/8/8_w_-_-_0_1?color=white)\n"
   ]
  },
  {
   "cell_type": "code",
   "execution_count": 6,
   "metadata": {},
   "outputs": [
    {
     "name": "stdout",
     "output_type": "stream",
     "text": [
      "Distance to checkmate or a zeroing move: 0\n"
     ]
    }
   ],
   "source": [
    "print_dtz('k7/p7/8/K7/8/8/8/8 w - - 0 1')"
   ]
  },
  {
   "cell_type": "code",
   "execution_count": null,
   "metadata": {},
   "outputs": [],
   "source": []
  },
  {
   "cell_type": "markdown",
   "metadata": {},
   "source": [
    "Zero means that the position is drawn."
   ]
  },
  {
   "cell_type": "markdown",
   "metadata": {},
   "source": [
    "White to move:\n",
    "\n",
    "![](https://fen2image.chessvision.ai/8/R7/3r4/8/4K3/8/4p3/4k3%20w%20-%20-%200%201?color=white)"
   ]
  },
  {
   "cell_type": "code",
   "execution_count": 7,
   "metadata": {},
   "outputs": [
    {
     "name": "stdout",
     "output_type": "stream",
     "text": [
      "Distance to checkmate or a zeroing move: -10\n"
     ]
    }
   ],
   "source": [
    "print_dtz('8/R7/3r4/8/4K3/8/4p3/4k3 w - - 0 1')"
   ]
  },
  {
   "cell_type": "markdown",
   "metadata": {},
   "source": [
    "A negative value indicates that the side to play will lose in 10 moves, assuming the best play by both sides."
   ]
  },
  {
   "cell_type": "code",
   "execution_count": 8,
   "metadata": {},
   "outputs": [],
   "source": [
    "def dtz_to_eval(dtz):\n",
    "    if dtz > 0:\n",
    "        return max(101 - dtz, 50)\n",
    "    elif dtz < 0:\n",
    "        return min(-101-dtz, -50)\n",
    "    return 0"
   ]
  },
  {
   "cell_type": "markdown",
   "metadata": {},
   "source": [
    "## Building a training dataset"
   ]
  },
  {
   "cell_type": "code",
   "execution_count": 9,
   "metadata": {},
   "outputs": [],
   "source": [
    "def bitarray_to_ndarray(bitarray):\n",
    "    return np.array([int(bit) for bit in bitarray], dtype=bool)\n",
    "\n",
    "def put_piece(board, color, piece, check_validity=True):\n",
    "    while True:\n",
    "        square = np.random.randint(0, 64)\n",
    "        while board.piece_at(square) is not None:\n",
    "            square = np.random.randint(0, 64)\n",
    "        board.set_piece_at(square, chess.Piece(piece, color)) \n",
    "        if board.is_valid() or not check_validity:\n",
    "            break\n",
    "        else:\n",
    "            board.remove_piece_at(square)\n",
    "\n",
    "def generate_random_fen():\n",
    "    # Generate a random position, where\n",
    "    # for each side there is a king and optionally a queen and/or a rook and/or a pawn\n",
    "    \n",
    "    board = chess.Board()\n",
    "    board.clear_board()\n",
    "    board.castling_rights = 0\n",
    "    board.turn = chess.WHITE if np.random.randint(0, 2) == 0 else chess.BLACK\n",
    "\n",
    "    # Put kings first because positions without them are illegal\n",
    "    put_piece(board, chess.WHITE, chess.KING, check_validity=False)\n",
    "    put_piece(board, chess.BLACK, chess.KING, check_validity=True)\n",
    "\n",
    "    # Put remaining pieces\n",
    "    while True:\n",
    "        color_piece_count = {\n",
    "            chess.WHITE: {\n",
    "                chess.QUEEN: np.random.randint(0, 2),\n",
    "                chess.ROOK: np.random.randint(0, 2),\n",
    "            },\n",
    "            chess.BLACK: {\n",
    "                chess.QUEEN: np.random.randint(0, 2),\n",
    "                chess.ROOK: np.random.randint(0, 2),\n",
    "            }\n",
    "        }\n",
    "        if sum(color_piece_count[chess.WHITE].values()) + sum(color_piece_count[chess.BLACK].values()) <= 3: # We can have up to 5 pieces, kings included\n",
    "            break\n",
    "\n",
    "    for color in chess.COLORS:\n",
    "        for piece, count in color_piece_count[color].items():\n",
    "            for _ in range(count):\n",
    "                put_piece(board, color, piece)\n",
    "    \n",
    "    return board.fen()\n",
    "                \n",
    "\n",
    "N_SAMPLES = 100000\n",
    "\n",
    "X_rows = []\n",
    "evals = []\n",
    "fens = []\n",
    "\n",
    "# for _ in range(N_SAMPLES):\n",
    "#     fen = generate_random_fen()\n",
    "#     fens.append(fen)\n",
    "    \n",
    "#     board = chess.Board(fen)\n",
    "    \n",
    "#     X_row = bitarray_to_ndarray(BoardEncoder.encode(board))\n",
    "#     X_rows.append(X_row)\n",
    "\n",
    "#     dtz = tablebase.probe_dtz(board)\n",
    "    \n",
    "#     evals.append(dtz_to_eval(dtz))\n",
    "\n",
    "X = np.array(X_rows)\n",
    "y = np.array(evals)  "
   ]
  },
  {
   "cell_type": "code",
   "execution_count": 10,
   "metadata": {},
   "outputs": [
    {
     "data": {
      "text/plain": [
       "(0,)"
      ]
     },
     "execution_count": 10,
     "metadata": {},
     "output_type": "execute_result"
    }
   ],
   "source": [
    "X.shape"
   ]
  },
  {
   "cell_type": "code",
   "execution_count": 11,
   "metadata": {},
   "outputs": [
    {
     "data": {
      "text/plain": [
       "(0,)"
      ]
     },
     "execution_count": 11,
     "metadata": {},
     "output_type": "execute_result"
    }
   ],
   "source": [
    "y.shape"
   ]
  },
  {
   "cell_type": "markdown",
   "metadata": {},
   "source": [
    "## Saving the model"
   ]
  },
  {
   "cell_type": "code",
   "execution_count": 12,
   "metadata": {},
   "outputs": [],
   "source": [
    "# path = f'../models/model-{datetime.now().strftime(\"%Y%m%d%H%M%S\")}.pkl'\n",
    "# os.mknod(path)\n",
    "\n",
    "# with open(path, 'ab') as file:\n",
    "#     pickle.dump(reg, file)"
   ]
  },
  {
   "cell_type": "markdown",
   "metadata": {},
   "source": [
    "## Loading the model"
   ]
  },
  {
   "cell_type": "code",
   "execution_count": 13,
   "metadata": {},
   "outputs": [],
   "source": [
    "load_path = '../models/model-20231218192512.pkl'\n",
    "reg: MLPRegressor\n",
    "with open(load_path, 'rb') as file:\n",
    "    reg = pickle.load(file)"
   ]
  },
  {
   "cell_type": "markdown",
   "metadata": {},
   "source": [
    "## Crossvalidation to see if MLP regressor is a good choice"
   ]
  },
  {
   "cell_type": "code",
   "execution_count": 14,
   "metadata": {},
   "outputs": [],
   "source": [
    "# reg = MLPRegressor(hidden_layer_sizes=(100, 100, 100), max_iter=1000, verbose=True, alpha=0.5)\n",
    "\n",
    "# cv_score = cross_val_score(reg, X, y, cv=5, scoring='neg_mean_absolute_error')\n",
    "\n",
    "# print(f\"Crossvalidation scores: {cv_score}\")\n",
    "# print(f\"Mean: {cv_score.mean()}\")\n",
    "# print(f\"Std: {cv_score.std()}\")"
   ]
  },
  {
   "cell_type": "markdown",
   "metadata": {},
   "source": [
    "## Proper training"
   ]
  },
  {
   "cell_type": "code",
   "execution_count": 15,
   "metadata": {},
   "outputs": [],
   "source": [
    "# X_train, X_test, y_train, y_test = train_test_split(X, y, test_size=0.1)\n",
    "# reg.fit(X_train, y_train)\n",
    "# mse = reg.score(X_test, y_test)\n",
    "\n",
    "# print(f\"Mean squared error: {mse}\")"
   ]
  },
  {
   "cell_type": "markdown",
   "metadata": {},
   "source": [
    "## Model predictions"
   ]
  },
  {
   "cell_type": "code",
   "execution_count": 16,
   "metadata": {},
   "outputs": [],
   "source": [
    "def get_estimation(reg, fen):\n",
    "    board = chess.Board(fen)\n",
    "    X = bitarray_to_ndarray(BoardEncoder.encode(board)).reshape(1, -1)\n",
    "    return reg.predict(X)[0]\n"
   ]
  },
  {
   "cell_type": "markdown",
   "metadata": {},
   "source": [
    "White to move:\n",
    "\n",
    "![](https://fen2image.chessvision.ai/8/8/8/8/3k4/8/3K4/3Q4_w_-_-_0_1?color=white)"
   ]
  },
  {
   "cell_type": "code",
   "execution_count": 17,
   "metadata": {},
   "outputs": [
    {
     "data": {
      "text/plain": [
       "88.80806033383806"
      ]
     },
     "execution_count": 17,
     "metadata": {},
     "output_type": "execute_result"
    }
   ],
   "source": [
    "get_estimation(reg, '8/8/8/8/3k4/8/3K4/3Q4 w - - 0 1')"
   ]
  },
  {
   "cell_type": "markdown",
   "metadata": {},
   "source": [
    "\n",
    "White to move:\n",
    "\n",
    "![](https://fen2image.chessvision.ai/k7/p7/8/K7/8/8/8/8_w_-_-_0_1?color=white)"
   ]
  },
  {
   "cell_type": "code",
   "execution_count": 18,
   "metadata": {},
   "outputs": [
    {
     "data": {
      "text/plain": [
       "0.6293887017390813"
      ]
     },
     "execution_count": 18,
     "metadata": {},
     "output_type": "execute_result"
    }
   ],
   "source": [
    "get_estimation(reg, 'k7/p7/8/K7/8/8/8/8 w - - 0 1')"
   ]
  },
  {
   "cell_type": "markdown",
   "metadata": {},
   "source": [
    "White to move:\n",
    "\n",
    "![](https://fen2image.chessvision.ai/8/R7/3r4/8/4K3/8/4p3/4k3%20w%20-%20-%200%201?color=white)"
   ]
  },
  {
   "cell_type": "code",
   "execution_count": 19,
   "metadata": {},
   "outputs": [
    {
     "data": {
      "text/plain": [
       "3.612007627864023"
      ]
     },
     "execution_count": 19,
     "metadata": {},
     "output_type": "execute_result"
    }
   ],
   "source": [
    "get_estimation(reg, '8/R7/3r4/8/4K3/8/4p3/4k3 w - - 0 1')"
   ]
  },
  {
   "cell_type": "markdown",
   "metadata": {},
   "source": [
    "## Monte Carlo Tree Search"
   ]
  },
  {
   "cell_type": "code",
   "execution_count": 20,
   "metadata": {},
   "outputs": [],
   "source": [
    "def get_next_move(board):\n",
    "    mc_node = MonteCarloNode(root_board=board,\n",
    "                             is_leaf=board.is_game_over(),\n",
    "                             parent=None,\n",
    "                             node_board=board, \n",
    "                             move_stack=[],\n",
    "                             evaluation_func=lambda board: get_estimation(reg, board.fen()))\n",
    "    mc_node.explore()\n",
    "    "
   ]
  },
  {
   "cell_type": "markdown",
   "metadata": {},
   "source": [
    "White to move:\n",
    "\n",
    "![](https://fen2image.chessvision.ai/8/R7/3r4/8/4K3/8/4p3/4k3%20w%20-%20-%200%201?color=white)"
   ]
  },
  {
   "cell_type": "code",
   "execution_count": 21,
   "metadata": {},
   "outputs": [
    {
     "name": "stdout",
     "output_type": "stream",
     "text": [
      "(Move.from_uci('a7a8'), <montecarlo.MonteCarloNode.MonteCarloNode object at 0x7f5dd09df210>)\n"
     ]
    }
   ],
   "source": [
    "board = chess.Board(fen='8/R7/3r4/8/4K3/8/4p3/4k3 w - - 0 1')\n",
    "\n",
    "mc_node = MonteCarloNode(root_board=board,\n",
    "                         is_leaf=board.is_game_over(),\n",
    "                         parent=None,\n",
    "                         node_board=board, \n",
    "                         move_stack=[],\n",
    "                         evaluation_func=lambda board: get_estimation(reg, board.fen()))\n",
    "\n",
    "for i in range(100):\n",
    "    mc_node.explore()\n",
    "\n",
    "print(mc_node.next())"
   ]
  }
 ],
 "metadata": {
  "kernelspec": {
   "display_name": ".venv",
   "language": "python",
   "name": "python3"
  },
  "language_info": {
   "codemirror_mode": {
    "name": "ipython",
    "version": 3
   },
   "file_extension": ".py",
   "mimetype": "text/x-python",
   "name": "python",
   "nbconvert_exporter": "python",
   "pygments_lexer": "ipython3",
   "version": "3.11.6"
  }
 },
 "nbformat": 4,
 "nbformat_minor": 2
}
